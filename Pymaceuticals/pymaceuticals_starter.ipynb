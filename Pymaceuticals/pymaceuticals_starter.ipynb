{
 "cells": [
  {
   "cell_type": "markdown",
   "metadata": {},
   "source": [
    "## Observations and Insights"
   ]
  },
  {
   "cell_type": "markdown",
   "metadata": {},
   "source": []
  },
  {
   "cell_type": "markdown",
   "metadata": {},
   "source": [
    "## Dependencies and starter code"
   ]
  },
  {
   "cell_type": "code",
   "execution_count": 1,
   "metadata": {},
   "outputs": [],
   "source": [
    "# Dependencies and Setup\n",
    "import matplotlib.pyplot as plt\n",
    "import pandas as pd\n",
    "import scipy.stats as st\n",
    "\n",
    "# Study data files\n",
    "mouse_metadata = \"data/Mouse_metadata.csv\"\n",
    "study_results = \"data/Study_results.csv\"\n",
    "\n",
    "# Read the mouse data and the study results\n",
    "mouse_metadata = pd.read_csv(mouse_metadata)\n",
    "study_results = pd.read_csv(study_results)\n",
    "\n",
    "# Combine the data into a single dataset\n",
    "merged = pd.merge(mouse_metadata, study_results, on='Mouse ID')"
   ]
  },
  {
   "cell_type": "markdown",
   "metadata": {},
   "source": [
    "## Summary statistics"
   ]
  },
  {
   "cell_type": "code",
   "execution_count": 2,
   "metadata": {},
   "outputs": [
    {
     "data": {
      "text/html": [
       "<div>\n",
       "<style scoped>\n",
       "    .dataframe tbody tr th:only-of-type {\n",
       "        vertical-align: middle;\n",
       "    }\n",
       "\n",
       "    .dataframe tbody tr th {\n",
       "        vertical-align: top;\n",
       "    }\n",
       "\n",
       "    .dataframe thead th {\n",
       "        text-align: right;\n",
       "    }\n",
       "</style>\n",
       "<table border=\"1\" class=\"dataframe\">\n",
       "  <thead>\n",
       "    <tr style=\"text-align: right;\">\n",
       "      <th></th>\n",
       "      <th>Mean Tumor Volume (mm3)</th>\n",
       "      <th>Median Tumor Volume (mm3)</th>\n",
       "      <th>Tumor Volume (mm3) Variance</th>\n",
       "      <th>Tumor Volume (mm3) Standard Deviation</th>\n",
       "      <th>Tumor Volume (mm3) SEM</th>\n",
       "    </tr>\n",
       "    <tr>\n",
       "      <th>Drug Regimen</th>\n",
       "      <th></th>\n",
       "      <th></th>\n",
       "      <th></th>\n",
       "      <th></th>\n",
       "      <th></th>\n",
       "    </tr>\n",
       "  </thead>\n",
       "  <tbody>\n",
       "    <tr>\n",
       "      <th>Capomulin</th>\n",
       "      <td>40.675741</td>\n",
       "      <td>41.557809</td>\n",
       "      <td>24.947764</td>\n",
       "      <td>4.994774</td>\n",
       "      <td>0.329346</td>\n",
       "    </tr>\n",
       "    <tr>\n",
       "      <th>Ceftamin</th>\n",
       "      <td>52.591172</td>\n",
       "      <td>51.776157</td>\n",
       "      <td>39.290177</td>\n",
       "      <td>6.268188</td>\n",
       "      <td>0.469821</td>\n",
       "    </tr>\n",
       "    <tr>\n",
       "      <th>Infubinol</th>\n",
       "      <td>52.884795</td>\n",
       "      <td>51.820584</td>\n",
       "      <td>43.128684</td>\n",
       "      <td>6.567243</td>\n",
       "      <td>0.492236</td>\n",
       "    </tr>\n",
       "    <tr>\n",
       "      <th>Ketapril</th>\n",
       "      <td>55.235638</td>\n",
       "      <td>53.698743</td>\n",
       "      <td>68.553577</td>\n",
       "      <td>8.279709</td>\n",
       "      <td>0.603860</td>\n",
       "    </tr>\n",
       "    <tr>\n",
       "      <th>Naftisol</th>\n",
       "      <td>54.331565</td>\n",
       "      <td>52.509285</td>\n",
       "      <td>66.173479</td>\n",
       "      <td>8.134708</td>\n",
       "      <td>0.596466</td>\n",
       "    </tr>\n",
       "    <tr>\n",
       "      <th>Placebo</th>\n",
       "      <td>54.033581</td>\n",
       "      <td>52.288934</td>\n",
       "      <td>61.168083</td>\n",
       "      <td>7.821003</td>\n",
       "      <td>0.581331</td>\n",
       "    </tr>\n",
       "    <tr>\n",
       "      <th>Propriva</th>\n",
       "      <td>52.322552</td>\n",
       "      <td>50.854632</td>\n",
       "      <td>42.351070</td>\n",
       "      <td>6.507770</td>\n",
       "      <td>0.512884</td>\n",
       "    </tr>\n",
       "    <tr>\n",
       "      <th>Ramicane</th>\n",
       "      <td>40.216745</td>\n",
       "      <td>40.673236</td>\n",
       "      <td>23.486704</td>\n",
       "      <td>4.846308</td>\n",
       "      <td>0.320955</td>\n",
       "    </tr>\n",
       "    <tr>\n",
       "      <th>Stelasyn</th>\n",
       "      <td>54.233149</td>\n",
       "      <td>52.431737</td>\n",
       "      <td>59.450562</td>\n",
       "      <td>7.710419</td>\n",
       "      <td>0.573111</td>\n",
       "    </tr>\n",
       "    <tr>\n",
       "      <th>Zoniferol</th>\n",
       "      <td>53.236507</td>\n",
       "      <td>51.818479</td>\n",
       "      <td>48.533355</td>\n",
       "      <td>6.966589</td>\n",
       "      <td>0.516398</td>\n",
       "    </tr>\n",
       "  </tbody>\n",
       "</table>\n",
       "</div>"
      ],
      "text/plain": [
       "              Mean Tumor Volume (mm3)  Median Tumor Volume (mm3)  \\\n",
       "Drug Regimen                                                       \n",
       "Capomulin                   40.675741                  41.557809   \n",
       "Ceftamin                    52.591172                  51.776157   \n",
       "Infubinol                   52.884795                  51.820584   \n",
       "Ketapril                    55.235638                  53.698743   \n",
       "Naftisol                    54.331565                  52.509285   \n",
       "Placebo                     54.033581                  52.288934   \n",
       "Propriva                    52.322552                  50.854632   \n",
       "Ramicane                    40.216745                  40.673236   \n",
       "Stelasyn                    54.233149                  52.431737   \n",
       "Zoniferol                   53.236507                  51.818479   \n",
       "\n",
       "              Tumor Volume (mm3) Variance  \\\n",
       "Drug Regimen                                \n",
       "Capomulin                       24.947764   \n",
       "Ceftamin                        39.290177   \n",
       "Infubinol                       43.128684   \n",
       "Ketapril                        68.553577   \n",
       "Naftisol                        66.173479   \n",
       "Placebo                         61.168083   \n",
       "Propriva                        42.351070   \n",
       "Ramicane                        23.486704   \n",
       "Stelasyn                        59.450562   \n",
       "Zoniferol                       48.533355   \n",
       "\n",
       "              Tumor Volume (mm3) Standard Deviation  Tumor Volume (mm3) SEM  \n",
       "Drug Regimen                                                                 \n",
       "Capomulin                                  4.994774                0.329346  \n",
       "Ceftamin                                   6.268188                0.469821  \n",
       "Infubinol                                  6.567243                0.492236  \n",
       "Ketapril                                   8.279709                0.603860  \n",
       "Naftisol                                   8.134708                0.596466  \n",
       "Placebo                                    7.821003                0.581331  \n",
       "Propriva                                   6.507770                0.512884  \n",
       "Ramicane                                   4.846308                0.320955  \n",
       "Stelasyn                                   7.710419                0.573111  \n",
       "Zoniferol                                  6.966589                0.516398  "
      ]
     },
     "execution_count": 2,
     "metadata": {},
     "output_type": "execute_result"
    }
   ],
   "source": [
    "# Generate a summary statistics table of mean, median, variance, standard deviation, and SEM of the tumor volume for each regimen\n",
    "# start new summary dataframe from the merged df grouped by drug collecting the mean of the Tumor Vol\n",
    "# all other columns added in similar method\n",
    "regimen_tumor_stats = pd.DataFrame(merged.groupby('Drug Regimen').mean()['Tumor Volume (mm3)']).rename(columns={'Tumor Volume (mm3)':'Mean Tumor Volume (mm3)'})\n",
    "regimen_tumor_stats['Median Tumor Volume (mm3)'] = pd.DataFrame(merged.groupby('Drug Regimen').median()['Tumor Volume (mm3)'])\n",
    "regimen_tumor_stats['Tumor Volume (mm3) Variance'] = pd.DataFrame(merged.groupby('Drug Regimen').var()['Tumor Volume (mm3)'])\n",
    "regimen_tumor_stats['Tumor Volume (mm3) Standard Deviation'] = pd.DataFrame(merged.groupby('Drug Regimen').std()['Tumor Volume (mm3)'])\n",
    "regimen_tumor_stats['Tumor Volume (mm3) SEM'] = pd.DataFrame(merged.groupby('Drug Regimen').sem()['Tumor Volume (mm3)'])\n",
    "regimen_tumor_stats"
   ]
  },
  {
   "cell_type": "markdown",
   "metadata": {},
   "source": [
    "## Bar plots"
   ]
  },
  {
   "cell_type": "code",
   "execution_count": 3,
   "metadata": {},
   "outputs": [
    {
     "data": {
      "image/png": "[encoded data removed]",
      "text/plain": [
       "<Figure size 432x288 with 1 Axes>"
      ]
     },
     "metadata": {
      "needs_background": "light"
     },
     "output_type": "display_data"
    }
   ],
   "source": [
    "# Generate a bar plot showing number of data points for each treatment regimen using pandas\n",
    "drug_data = pd.DataFrame(merged.groupby('Drug Regimen')['Mouse ID'].count()).sort_values('Mouse ID',ascending=False)\n",
    "drug_data.plot(kind='bar',legend=False)\n",
    "plt.ylabel('Number of Data Points')\n",
    "plt.show()"
   ]
  },
  {
   "cell_type": "code",
   "execution_count": 4,
   "metadata": {},
   "outputs": [
    {
     "data": {
      "image/png": "[encoded data removed]",
      "text/plain": [
       "<Figure size 432x288 with 1 Axes>"
      ]
     },
     "metadata": {
      "needs_background": "light"
     },
     "output_type": "display_data"
    }
   ],
   "source": [
    "# Generate a bar plot showing number of data points for each treatment regimen using pyplot\n",
    "drug_data = drug_data.reset_index()\n",
    "plt.bar(drug_data['Drug Regimen'], drug_data['Mouse ID'],width = .5)\n",
    "plt.xticks(rotation='vertical')\n",
    "plt.ylabel('Number of Data Points')\n",
    "plt.xlabel('Drug Regimen')\n",
    "plt.show()"
   ]
  },
  {
   "cell_type": "markdown",
   "metadata": {},
   "source": [
    "## Pie plots"
   ]
  },
  {
   "cell_type": "code",
   "execution_count": 5,
   "metadata": {},
   "outputs": [
    {
     "data": {
      "image/png": "[encoded data removed]",
      "text/plain": [
       "<Figure size 432x288 with 1 Axes>"
      ]
     },
     "metadata": {},
     "output_type": "display_data"
    }
   ],
   "source": [
    "# Generate a pie plot showing the distribution of female versus male mice using pandas\n",
    "gender_dist = pd.DataFrame(merged.drop_duplicates('Mouse ID',keep='first').groupby('Sex')['Mouse ID'].count())\n",
    "gender_dist.plot.pie(y='Mouse ID', legend=False,autopct='%1.1f%%')\n",
    "plt.ylabel('Sex')\n",
    "plt.show()"
   ]
  },
  {
   "cell_type": "code",
   "execution_count": 6,
   "metadata": {},
   "outputs": [
    {
     "data": {
      "image/png": "[encoded data removed]",
      "text/plain": [
       "<Figure size 432x288 with 1 Axes>"
      ]
     },
     "metadata": {},
     "output_type": "display_data"
    }
   ],
   "source": [
    "# Generate a pie plot showing the distribution of female versus male mice using pyplot\n",
    "gender_dist = gender_dist.reset_index()\n",
    "plt.pie(gender_dist['Mouse ID'],autopct='%1.1f%%',labels=gender_dist['Sex'])\n",
    "plt.ylabel('Sex')\n",
    "plt.show()"
   ]
  },
  {
   "cell_type": "markdown",
   "metadata": {},
   "source": [
    "## Quartiles, outliers and boxplots"
   ]
  },
  {
   "cell_type": "code",
   "execution_count": 7,
   "metadata": {},
   "outputs": [
    {
     "name": "stdout",
     "output_type": "stream",
     "text": [
      "The lower quartile of final tumor volume for Capomulin is: 32.38mm3\n",
      "The upper quartile of final tumor volume for Capomulin is: 40.16mm3\n",
      "The interquartile range of final tumor volume for Capomulin is: 7.78mm3\n",
      "The the median of final tumor volume for Capomulin is: 38.13mm3 \n",
      "Values below 20.7mm3 could be outliers.\n",
      "Values above 51.83mm3 could be outliers.\n",
      "--------------------------------------------------\n",
      "The lower quartile of final tumor volume for Ramicane is: 31.56mm3\n",
      "The upper quartile of final tumor volume for Ramicane is: 40.66mm3\n",
      "The interquartile range of final tumor volume for Ramicane is: 9.1mm3\n",
      "The the median of final tumor volume for Ramicane is: 36.56mm3 \n",
      "Values below 17.91mm3 could be outliers.\n",
      "Values above 54.31mm3 could be outliers.\n",
      "--------------------------------------------------\n",
      "The lower quartile of final tumor volume for Infubinol is: 54.05mm3\n",
      "The upper quartile of final tumor volume for Infubinol is: 65.53mm3\n",
      "The interquartile range of final tumor volume for Infubinol is: 11.48mm3\n",
      "The the median of final tumor volume for Infubinol is: 60.17mm3 \n",
      "Values below 36.83mm3 could be outliers.\n",
      "Values above 82.74mm3 could be outliers.\n",
      "--------------------------------------------------\n",
      "The lower quartile of final tumor volume for Ceftamin is: 48.72mm3\n",
      "The upper quartile of final tumor volume for Ceftamin is: 64.3mm3\n",
      "The interquartile range of final tumor volume for Ceftamin is: 15.58mm3\n",
      "The the median of final tumor volume for Ceftamin is: 59.85mm3 \n",
      "Values below 25.36mm3 could be outliers.\n",
      "Values above 87.67mm3 could be outliers.\n"
     ]
    }
   ],
   "source": [
    "# Calculate the final tumor volume of each mouse across four of the most promising treatment regimens. Calculate the IQR and quantitatively determine if there are any potential outliers.\n",
    "# Capomulin, Ramicane, Infubinol, and Ceftamin are the four most promising treatments\n",
    "\n",
    "# first, acquired the final timepoints data by sorting in descending order and dropping all secondary entries per mouse ID\n",
    "final = merged.sort_values('Timepoint',ascending=False)\n",
    "final = final.drop_duplicates('Mouse ID', keep='first')\n",
    "\n",
    "# filtered for drug of interest to create new individualized datasets and then pulled the tumor volume data\n",
    "final_cap = final.loc[final['Drug Regimen'] == 'Capomulin']\n",
    "final_cap_tv = final_cap['Tumor Volume (mm3)']\n",
    "# above filtered was repeated for the 3 other drugs of interest\n",
    "final_ram = final.loc[final['Drug Regimen'] == 'Ramicane']\n",
    "final_ram_tv = final_ram['Tumor Volume (mm3)']\n",
    "final_inf = final.loc[final['Drug Regimen'] == 'Infubinol']\n",
    "final_inf_tv = final_inf['Tumor Volume (mm3)']\n",
    "final_cef = final.loc[final['Drug Regimen'] == 'Ceftamin']\n",
    "final_cef_tv = final_cef['Tumor Volume (mm3)']\n",
    "\n",
    "# IQR and outlier calculations for Capomulin\n",
    "# first setting the quartiles and IQR and reporting\n",
    "quartiles_cap = final_cap_tv.quantile([.25,.5,.75])\n",
    "lowerq_cap = quartiles_cap[0.25]\n",
    "upperq_cap = quartiles_cap[0.75]\n",
    "iqr_cap = upperq_cap-lowerq_cap\n",
    "\n",
    "print(f\"The lower quartile of final tumor volume for Capomulin is: {round(lowerq_cap,2)}mm3\")\n",
    "print(f\"The upper quartile of final tumor volume for Capomulin is: {round(upperq_cap,2)}mm3\")\n",
    "print(f\"The interquartile range of final tumor volume for Capomulin is: {round(iqr_cap,2)}mm3\")\n",
    "print(f\"The the median of final tumor volume for Capomulin is: {round(quartiles_cap[0.5],2)}mm3 \")\n",
    "\n",
    "# using the previous calculations to identify outlier thresholds.\n",
    "lower_bound_cap = lowerq_cap - (1.5*iqr_cap)\n",
    "upper_bound_cap = upperq_cap + (1.5*iqr_cap)\n",
    "print(f\"Values below {round(lower_bound_cap,2)}mm3 could be outliers.\")\n",
    "print(f\"Values above {round(upper_bound_cap,2)}mm3 could be outliers.\")\n",
    "print('--------------------------------------------------')\n",
    "\n",
    "# IQR and outlier calculations for Ramicane\n",
    "# first setting the quartiles and IQR and reporting\n",
    "quartiles_ram = final_ram_tv.quantile([.25,.5,.75])\n",
    "lowerq_ram = quartiles_ram[0.25]\n",
    "upperq_ram = quartiles_ram[0.75]\n",
    "iqr_ram = upperq_ram-lowerq_ram\n",
    "\n",
    "print(f\"The lower quartile of final tumor volume for Ramicane is: {round(lowerq_ram,2)}mm3\")\n",
    "print(f\"The upper quartile of final tumor volume for Ramicane is: {round(upperq_ram,2)}mm3\")\n",
    "print(f\"The interquartile range of final tumor volume for Ramicane is: {round(iqr_ram,2)}mm3\")\n",
    "print(f\"The the median of final tumor volume for Ramicane is: {round(quartiles_ram[0.5],2)}mm3 \")\n",
    "\n",
    "# using the previous calculations to identify outlier thresholds.\n",
    "lower_bound_ram = lowerq_ram - (1.5*iqr_ram)\n",
    "upper_bound_ram = upperq_ram + (1.5*iqr_ram)\n",
    "print(f\"Values below {round(lower_bound_ram,2)}mm3 could be outliers.\")\n",
    "print(f\"Values above {round(upper_bound_ram,2)}mm3 could be outliers.\")\n",
    "print('--------------------------------------------------')\n",
    "\n",
    "\n",
    "# IQR and outlier calculations for Infubinol\n",
    "# first setting the quartiles and IQR and reporting\n",
    "quartiles_inf = final_inf_tv.quantile([.25,.5,.75])\n",
    "lowerq_inf = quartiles_inf[0.25]\n",
    "upperq_inf = quartiles_inf[0.75]\n",
    "iqr_inf = upperq_inf-lowerq_inf\n",
    "\n",
    "print(f\"The lower quartile of final tumor volume for Infubinol is: {round(lowerq_inf,2)}mm3\")\n",
    "print(f\"The upper quartile of final tumor volume for Infubinol is: {round(upperq_inf,2)}mm3\")\n",
    "print(f\"The interquartile range of final tumor volume for Infubinol is: {round(iqr_inf,2)}mm3\")\n",
    "print(f\"The the median of final tumor volume for Infubinol is: {round(quartiles_inf[0.5],2)}mm3 \")\n",
    "\n",
    "# using the previous calculations to identify outlier thresholds.\n",
    "lower_bound_inf = lowerq_inf - (1.5*iqr_inf)\n",
    "upper_bound_inf = upperq_inf + (1.5*iqr_inf)\n",
    "print(f\"Values below {round(lower_bound_inf,2)}mm3 could be outliers.\")\n",
    "print(f\"Values above {round(upper_bound_inf,2)}mm3 could be outliers.\")\n",
    "print('--------------------------------------------------')\n",
    "\n",
    "# IQR and outlier calculations for Ceftamin\n",
    "# first setting the quartiles and IQR and reporting\n",
    "quartiles_cef = final_cef_tv.quantile([.25,.5,.75])\n",
    "lowerq_cef = quartiles_cef[0.25]\n",
    "upperq_cef = quartiles_cef[0.75]\n",
    "iqr_cef = upperq_cef-lowerq_cef\n",
    "\n",
    "print(f\"The lower quartile of final tumor volume for Ceftamin is: {round(lowerq_cef,2)}mm3\")\n",
    "print(f\"The upper quartile of final tumor volume for Ceftamin is: {round(upperq_cef,2)}mm3\")\n",
    "print(f\"The interquartile range of final tumor volume for Ceftamin is: {round(iqr_cef,2)}mm3\")\n",
    "print(f\"The the median of final tumor volume for Ceftamin is: {round(quartiles_cef[0.5],2)}mm3 \")\n",
    "\n",
    "# using the previous calculations to identify outlier thresholds.\n",
    "lower_bound_cef = lowerq_cef - (1.5*iqr_cef)\n",
    "upper_bound_cef = upperq_cef + (1.5*iqr_cef)\n",
    "print(f\"Values below {round(lower_bound_cef,2)}mm3 could be outliers.\")\n",
    "print(f\"Values above {round(upper_bound_cef,2)}mm3 could be outliers.\")"
   ]
  },
  {
   "cell_type": "code",
   "execution_count": 8,
   "metadata": {},
   "outputs": [
    {
     "data": {
      "image/png": "[encoded data removed]",
      "text/plain": [
       "<Figure size 432x288 with 1 Axes>"
      ]
     },
     "metadata": {
      "needs_background": "light"
     },
     "output_type": "display_data"
    }
   ],
   "source": [
    "# Generate a box plot of the final tumor volume of each mouse across four regimens of interest\n",
    "# Capomulin, Ramicane, Infubinol, and Ceftamin all in same plot window\n",
    "final_all = [final_cap_tv,final_ram_tv,final_inf_tv,final_cef_tv]\n",
    "fig,ax = plt.subplots()\n",
    "ax.set_xticklabels(['Capomulin', 'Ramicane', 'Infubinol', 'Ceftamin'])\n",
    "flierprops = dict(marker='o', markerfacecolor='r', markersize=12,linestyle='none', markeredgecolor='g')\n",
    "ax.boxplot(final_all,flierprops=flierprops)\n",
    "plt.ylabel('Final Tumor Volume (mm3)')\n",
    "plt.title('Final Tumor Volume (mm3) of Top Drug Regimens')\n",
    "plt.show()"
   ]
  },
  {
   "cell_type": "markdown",
   "metadata": {},
   "source": [
    "## Line and scatter plots"
   ]
  },
  {
   "cell_type": "code",
   "execution_count": 9,
   "metadata": {},
   "outputs": [
    {
     "data": {
      "image/png": "[encoded data removed]",
      "text/plain": [
       "<Figure size 432x288 with 1 Axes>"
      ]
     },
     "metadata": {
      "needs_background": "light"
     },
     "output_type": "display_data"
    }
   ],
   "source": [
    "# Generate a line plot of time point versus tumor volume for a mouse treated with Capomulin\n",
    "# First selected only one mouse ID\n",
    "l509 = merged.loc[merged['Mouse ID']=='l509']\n",
    "plt.plot(l509['Timepoint'],l509['Tumor Volume (mm3)'])\n",
    "plt.title('Tumor Progression during Capomulin Treatment of Mouse l509')\n",
    "plt.xlabel('Timepoint (days)')\n",
    "plt.ylabel('Tumor Volume (mm3)')\n",
    "plt.show()"
   ]
  },
  {
   "cell_type": "code",
   "execution_count": 10,
   "metadata": {},
   "outputs": [
    {
     "data": {
      "image/png": "[encoded data removed]",
      "text/plain": [
       "<Figure size 432x288 with 1 Axes>"
      ]
     },
     "metadata": {
      "needs_background": "light"
     },
     "output_type": "display_data"
    }
   ],
   "source": [
    "# Generate a scatter plot of mouse weight versus average tumor volume for the Capomulin regimen\n",
    "# First filtered by Capomulin\n",
    "capomulin = merged.loc[merged['Drug Regimen']=='Capomulin']\n",
    "# Found the average Tumor Vol for each mouse within the capomulin data\n",
    "cap_avg = pd.DataFrame(capomulin.groupby('Mouse ID').mean()['Tumor Volume (mm3)'])\n",
    "# Because weight is part of the metadata it does not change and the mean function can effectively pull the weight entry using the same code as collecting average tumor vol\n",
    "cap_avg['Weight'] = pd.DataFrame(capomulin.groupby('Mouse ID').mean()['Weight (g)'])\n",
    "# Generation of scatter plot\n",
    "plt.scatter(cap_avg['Weight'],cap_avg['Tumor Volume (mm3)'])\n",
    "plt.xlabel('Weight (g)')\n",
    "plt.ylabel('Average Tumor Volume (mm3)')\n",
    "plt.show()"
   ]
  },
  {
   "cell_type": "code",
   "execution_count": 11,
   "metadata": {},
   "outputs": [
    {
     "name": "stdout",
     "output_type": "stream",
     "text": [
      "The correlation between mouse weight and average tumor volume is 0.84\n"
     ]
    },
    {
     "data": {
      "image/png": "[encoded data removed]",
      "text/plain": [
       "<Figure size 432x288 with 1 Axes>"
      ]
     },
     "metadata": {
      "needs_background": "light"
     },
     "output_type": "display_data"
    }
   ],
   "source": [
    "# Calculate the correlation coefficient and linear regression model for mouse weight and average tumor volume for the Capomulin regimen\n",
    "# Assign x and y values as variables for easier calling\n",
    "x_values = cap_avg['Weight']\n",
    "y_values = cap_avg['Tumor Volume (mm3)']\n",
    "\n",
    "# Pulled linregress values\n",
    "(slope, intercept, rvalue, pvalue, stderr) = st.linregress(x_values, y_values)\n",
    "# Calculate regress values for every point in x_value set\n",
    "regress_values = x_values * slope + intercept\n",
    "# Generate scatter plot\n",
    "plt.scatter(x_values,y_values)\n",
    "# Generate regression line\n",
    "plt.plot(x_values,regress_values,\"r-\")\n",
    "# Apply labels\n",
    "plt.xlabel('Weight (g)')\n",
    "plt.ylabel('Average Tumor Volume (mm3)')\n",
    "# Print correlation value.\n",
    "print(f\"The correlation between mouse weight and average tumor volume is {round(rvalue,2)}\")\n",
    "plt.show()"
   ]
  },
  {
   "cell_type": "code",
   "execution_count": null,
   "metadata": {},
   "outputs": [],
   "source": []
  }
 ],
 "metadata": {
  "anaconda-cloud": {},
  "kernelspec": {
   "display_name": "Python 3",
   "language": "python",
   "name": "python3"
  },
  "language_info": {
   "codemirror_mode": {
    "name": "ipython",
    "version": 3
   },
   "file_extension": ".py",
   "mimetype": "text/x-python",
   "name": "python",
   "nbconvert_exporter": "python",
   "pygments_lexer": "ipython3",
   "version": "3.6.10"
  }
 },
 "nbformat": 4,
 "nbformat_minor": 2
}
